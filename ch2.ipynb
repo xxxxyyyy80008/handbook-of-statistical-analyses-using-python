{
 "cells": [
  {
   "cell_type": "markdown",
   "id": "90e36938",
   "metadata": {},
   "source": [
    "# CHAPTER 2. Simple Inference: Guessing Lengths, Wave Energy, Water Hardness, Piston Rings, and Rearrests of Juveniles"
   ]
  },
  {
   "cell_type": "markdown",
   "id": "1acb1d5f",
   "metadata": {},
   "source": [
    "## 2.1 Introduction\n",
    "## 2.2 Statistical Tests\n",
    "## 2.3 Analysis Using Python\n",
    "### 2.3.1 Estimating the Width of a Room\n",
    "\n",
    "The data shown in Table ?? are available as roomwidth data.frame from the\n",
    "HSAUR package and can be attached by using"
   ]
  },
  {
   "cell_type": "markdown",
   "id": "13ae10d6",
   "metadata": {},
   "source": [
    "If we convert the estimates of the room width in metres into feet by multiplying\n",
    "each by 3.28 then we would like to test the hypothesis that the mean of the\n",
    "population of ‘metre’ estimates is equal to the mean of the population of\n",
    "‘feet’ estimates. We shall do this first by using an independent samples t-test,\n",
    "but first it is good practice to, informally at least, check the normality and\n",
    "equal variance assumptions. Here we can use a combination of numerical and\n",
    "graphical approaches. The first step should be to convert the metre estimates\n",
    "into feet, i.e., by a factor"
   ]
  },
  {
   "cell_type": "code",
   "execution_count": 2,
   "id": "eed28120",
   "metadata": {},
   "outputs": [],
   "source": [
    "import pandas as pd\n",
    "import numpy as np"
   ]
  },
  {
   "cell_type": "code",
   "execution_count": 3,
   "id": "1b3732bd",
   "metadata": {},
   "outputs": [
    {
     "name": "stdout",
     "output_type": "stream",
     "text": [
      "2.2.3\n"
     ]
    }
   ],
   "source": [
    "print(pd.__version__)"
   ]
  },
  {
   "cell_type": "code",
   "execution_count": null,
   "id": "0941c979",
   "metadata": {},
   "outputs": [],
   "source": []
  }
 ],
 "metadata": {
  "kernelspec": {
   "display_name": "Python 3",
   "language": "python",
   "name": "python3"
  },
  "language_info": {
   "codemirror_mode": {
    "name": "ipython",
    "version": 3
   },
   "file_extension": ".py",
   "mimetype": "text/x-python",
   "name": "python",
   "nbconvert_exporter": "python",
   "pygments_lexer": "ipython3",
   "version": "3.12.1"
  }
 },
 "nbformat": 4,
 "nbformat_minor": 5
}
